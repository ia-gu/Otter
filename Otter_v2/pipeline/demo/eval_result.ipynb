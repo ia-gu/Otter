{
 "cells": [
  {
   "cell_type": "code",
   "execution_count": 5,
   "metadata": {},
   "outputs": [
    {
     "name": "stdout",
     "output_type": "stream",
     "text": [
      "done\n",
      "Full_TPs=871, Full_FPs=99, Full_FNs=1340, Full_TNs=1035\n",
      "correct=1906, total=3345\n",
      "F1 score: 0.547626532536938\n"
     ]
    }
   ],
   "source": [
    "# 異常がpositive, 正常がnegative\n",
    "import pandas as pd\n",
    "import re\n",
    "import os\n",
    "import csv\n",
    "\n",
    "# Load the CSV file\n",
    "base_dir = 'rename_full/reduced_20_rand_21'\n",
    "df = pd.read_csv(os.path.join(base_dir, 'result.csv'), header=None)\n",
    "# results = []\n",
    "Full_TPs = 0; Full_FPs = 0; Full_FNs = 0; Full_TNs = 0\n",
    "TPs = 0; FPs = 0; FNs = 0; TNs = 0\n",
    "correct = 0; total = 0\n",
    "category = 'wood'\n",
    "with open(os.path.join(base_dir, 'f1_score.csv'), 'w') as f:\n",
    "    pass\n",
    "\n",
    "for idx in range(len(df[0])):\n",
    "    if len(df[0][idx].split('/'))<3:\n",
    "        match = re.search(r'(\\d+)/(\\d+)', df[0][idx])\n",
    "        # match = re.search(r'correct: (\\d+), total: (\\d+)', df[0][idx])\n",
    "        if 'good' in df[0][idx-1]:\n",
    "            TPs += int(match.group(1))\n",
    "            Full_TPs += int(match.group(1))\n",
    "            FNs += int(match.group(2)) - int(match.group(1))\n",
    "            Full_FNs += int(match.group(2)) - int(match.group(1))\n",
    "        else:\n",
    "            TNs += int(match.group(1))\n",
    "            Full_TNs += int(match.group(1))\n",
    "            FPs += int(match.group(2)) - int(match.group(1))\n",
    "            Full_FPs += int(match.group(2)) - int(match.group(1))\n",
    "        correct += int(match.group(1))\n",
    "        total += int(match.group(2))\n",
    "        try:\n",
    "            if not category in df[0][idx+1]:\n",
    "                with open(os.path.join(base_dir, 'f1_score.csv'), 'a') as f:\n",
    "                    writer = csv.writer(f)\n",
    "                    writer.writerow([category])\n",
    "                    writer.writerow([f'{TPs=}, {FPs=}, {FNs=}, {TNs=}'])\n",
    "                    try:\n",
    "                        precision = TPs/(TPs+FPs)\n",
    "                        recall = TPs/(TPs+FNs)\n",
    "                        writer.writerow([f'F1 score: {2*precision*recall/(precision+recall)}'])\n",
    "                    except:\n",
    "                        writer.writerow([f'zero devision occurred'])\n",
    "                    writer.writerow(['######################################################'])\n",
    "                TPs = 0; FPs = 0; FNs = 0; TNs = 0\n",
    "                category = df[0][idx+1].split('/')[3]\n",
    "        except:\n",
    "            with open(os.path.join(base_dir, 'f1_score.csv'), 'a') as f:\n",
    "                writer = csv.writer(f)\n",
    "                writer.writerow([category])\n",
    "                writer.writerow([f'{TPs=}, {FPs=}, {FNs=}, {TNs=}'])\n",
    "                try:\n",
    "                    precision = TPs/(TPs+FPs)\n",
    "                    recall = TPs/(TPs+FNs)\n",
    "                    writer.writerow([f'F1 score: {2*precision*recall/(precision+recall)}'])\n",
    "                except:\n",
    "                    writer.writerow([f'zero devision occurred'])\n",
    "                writer.writerow(['######################################################'])\n",
    "            pass\n",
    "print('done')\n",
    "with open(os.path.join(base_dir, 'f1_score.csv'), 'a') as f:\n",
    "    writer = csv.writer(f)\n",
    "    writer.writerow(['FULL F1 SCORE'])\n",
    "    writer.writerow([f'{Full_TPs=}, {Full_FPs=}, {Full_FNs=}, {Full_TNs=}'])\n",
    "    writer.writerow([f'{correct=}, {total=}'])\n",
    "    precision = Full_TPs/(Full_TPs+Full_FPs)\n",
    "    recall = Full_TPs/(Full_TPs+Full_FNs)\n",
    "    writer.writerow([f'F1 score: {2*precision*recall/(precision+recall)}'])\n",
    "\n",
    "print(f'{Full_TPs=}, {Full_FPs=}, {Full_FNs=}, {Full_TNs=}')\n",
    "print(f'{correct=}, {total=}')\n",
    "print(f'F1 score: {2*(precision*recall)/(precision+recall)}')"
   ]
  },
  {
   "cell_type": "code",
   "execution_count": 8,
   "metadata": {},
   "outputs": [
    {
     "name": "stdout",
     "output_type": "stream",
     "text": [
      "['color', 'scratch', 'liquid', 'hole', 'manipulated_front', 'scratch_head', 'scratch_neck', 'thread_side', 'thread_top', 'broken_large', 'broken_small', 'contamination', 'bent_wire', 'cable_swap', 'cut_inner_insulation', 'cut_outer_insulation', 'missing_cable', 'missing_wire', 'poke_insulation', 'crack', 'glue_strip', 'gray_stroke', 'oil', 'rough', 'defective', 'bent_lead', 'cut_lead', 'damaged_case', 'misplaced', 'bent', 'broken', 'glue', 'metal_contamination', 'thread', 'broken_teeth', 'fabric_border', 'fabric_interior', 'split_teeth', 'squeezed_teeth', 'cut', 'print', 'flip', 'faulty_imprint', 'pill_type', 'poke', 'fold', 'squeeze']\n"
     ]
    }
   ],
   "source": [
    "import glob\n",
    "modes = []\n",
    "anomaly_list = glob.glob('rename_view_20/reduced_20_rand_21/*/*')\n",
    "for anomaly in anomaly_list:\n",
    "    if anomaly.split('/')[-1] not in modes:\n",
    "        modes.append(anomaly.split('/')[-1])\n",
    "print(modes)"
   ]
  },
  {
   "cell_type": "code",
   "execution_count": 5,
   "metadata": {},
   "outputs": [
    {
     "name": "stdout",
     "output_type": "stream",
     "text": [
      "done\n"
     ]
    }
   ],
   "source": [
    "import pandas as pd\n",
    "import re\n",
    "import os\n",
    "import csv\n",
    "\n",
    "# Load the CSV file\n",
    "base_dir = 'rename_view_20/json_based_20_rand_21'\n",
    "base_dir = 'rename_view_20/reduced_20_rand_21'\n",
    "# base_dir = 'view_cr'\n",
    "df = pd.read_csv(os.path.join(base_dir, 'result.csv'), header=None)\n",
    "# results = []\n",
    "TPs = 0; FPs = 0; FNs = 0; TNs = 0\n",
    "with open(os.path.join(base_dir, 'f1_score_mode.csv'), 'w') as f:\n",
    "    pass\n",
    "for mode in modes:\n",
    "    for idx in range(len(df[0])):\n",
    "        if len(df[0][idx].split('/'))<3:\n",
    "            if mode in df[0][idx-1]:\n",
    "                match = re.search(r'(\\d+)/(\\d+)', df[0][idx])\n",
    "                TNs += int(match.group(1))\n",
    "                FPs += int(match.group(2)) - int(match.group(1))\n",
    "                match = re.search(r'(\\d+)/(\\d+)', df[0][idx-int(match.group(2))-1])\n",
    "                TPs += int(match.group(1))\n",
    "                FNs += int(match.group(2)) - int(match.group(1))\n",
    "        # print(mode, match.group(1), match.group(2))\n",
    "    with open(os.path.join(base_dir, 'f1_score_mode.csv'), 'a') as f:\n",
    "        writer = csv.writer(f)\n",
    "        writer.writerow([mode])\n",
    "        writer.writerow([f'{TPs=}, {FPs=}, {FNs=}, {TNs=}'])\n",
    "        try:\n",
    "            precision = TPs/(TPs+FPs)\n",
    "            recall = TPs/(TPs+FNs)\n",
    "            writer.writerow([f'F1 score: {2*(precision*recall)/(precision+recall)}'])\n",
    "        except:\n",
    "            writer.writerow([f'zero devision occurred'])\n",
    "        writer.writerow(['######################################################'])\n",
    "    TPs = 0; FPs = 0; FNs = 0; TNs = 0\n",
    "print('done')"
   ]
  },
  {
   "cell_type": "markdown",
   "metadata": {},
   "source": [
    "フォルダ名→使ってる欠陥名"
   ]
  },
  {
   "cell_type": "code",
   "execution_count": 6,
   "metadata": {},
   "outputs": [],
   "source": [
    "import json\n",
    "anomaly_dict = {'wood': {\"color\": \"stain\", \"scratch\": \"scratch\", \"liquid\": \"stain\", \"hole\": \"hole\"},\n",
    "                'bottle': {\"broken_large\": \"broken\", \"broken_small\": \"broken\", \"contamination\": \"contamination\"}, \n",
    "                'cable': {\"bent_wire\": \"bent\", \"cable_swap\": \"swap\", \"cut_inner_insulation\": \"crack\", \"cut_outer_insulation\": \"crack\", \"missing_cable\": \"missing\", \"missing_wire\": \"missing\", \"poke_insulation\": \"hole\"}, \n",
    "                'capsule': {\"crack\": \"crack\", \"faulty_imprint\": \"misprint\", \"poke\": \"hole\", \"scratch\": \"scratch\", \"squeeze\": \"misshapen\"}, \n",
    "                'carpet': {\"color\": \"stain\", \"cut\": \"cut\", \"hole\": \"hole\", \"metal_contamination\": \"contamination\", \"thread\": \"contamination\"}, \n",
    "                'grid': {\"bent\": \"bent\", \"broken\": \"broken\", \"glue\": \"contamination\", \"metal_contamination\": \"contamination\", \"thread\": \"contamination\"}, \n",
    "                'hazelnut': {\"crack\": \"crack\", \"cut\": \"scratch\", \"hole\": \"hole\", \"print\": \"misprint\"}, \n",
    "                'leather': {\"color\": \"stain\", \"cut\": \"scratch\", \"fold\": \"wrinkle\", \"glue\": \"stain\", \"poke\": \"hole\"}, \n",
    "                'metal_nut': {\"bent\": \"bent\", \"color\": \"stain\", \"flip\": \"flip\", \"scratch\": \"scratch\"}, \n",
    "                'pill': {\"color\": \"stain\", \"contamination\": \"contamination\", \"crack\": \"crack\", \"faulty_imprint\": \"misprint\", \"pill_type\": \"stain\"}, \n",
    "                \"screw\": {\"manipulated_front\": \"strip\", \"scratch_head\": \"chip\", \"scratch_neck\": \"chip\", \"thread_side\": \"chip\", \"thread_top\": \"chip\"}, \n",
    "                \"tile\": {\"crack\": \"crack\", \"glue_strip\": \"contamination\", \"gray_stroke\": \"stain\", \"oil\": \"stain\", \"rough\": \"stain\"}, \n",
    "                \"toothbrush\": {\"defective\": \"broken\"}, \n",
    "                \"transistor\": {\"bent_lead\": \"bent\", \"cut_lead\": \"cut\", \"damaged_case\": \"broken\", \"misplaced\": \"misalignment\"}, \n",
    "                \"zipper\": {\"broken_teeth\": \"broken\", \"fabric_border\": \"tear\", \"fabric_interior\": \"frayed\", \"rough\": \"frayed\", \"split_teeth\": \"misshapen\", \"squeezed_teeth\": \"misshapen\"}\n",
    "}\n",
    "\n",
    "with open('anomaly_dict_for_eval.json', 'w') as f:\n",
    "    json.dump(anomaly_dict, f, indent=4)"
   ]
  },
  {
   "cell_type": "code",
   "execution_count": null,
   "metadata": {},
   "outputs": [],
   "source": []
  }
 ],
 "metadata": {
  "kernelspec": {
   "display_name": "otter",
   "language": "python",
   "name": "python3"
  },
  "language_info": {
   "codemirror_mode": {
    "name": "ipython",
    "version": 3
   },
   "file_extension": ".py",
   "mimetype": "text/x-python",
   "name": "python",
   "nbconvert_exporter": "python",
   "pygments_lexer": "ipython3",
   "version": "3.9.18"
  }
 },
 "nbformat": 4,
 "nbformat_minor": 2
}
